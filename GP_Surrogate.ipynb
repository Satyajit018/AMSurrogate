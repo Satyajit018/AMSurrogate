{
 "cells": [
  {
   "cell_type": "code",
   "execution_count": 856,
   "metadata": {},
   "outputs": [],
   "source": [
    "import numpy as np\n",
    "import pandas as pd\n",
    "from matplotlib import pyplot as plt\n",
    "from sklearn.gaussian_process import GaussianProcessRegressor\n",
    "from sklearn.preprocessing import MinMaxScaler, StandardScaler\n",
    "from sklearn.gaussian_process.kernels import Matern\n",
    "from sklearn.gaussian_process.kernels import RBF, ConstantKernel as C\n",
    "import warnings\n",
    "warnings.filterwarnings('ignore')"
   ]
  },
  {
   "cell_type": "code",
   "execution_count": null,
   "metadata": {},
   "outputs": [],
   "source": [
    "train_data=260\n",
    "df=pd.read_csv(\"Data.csv\", header=True)\n",
    "data_raw=np.array(df, dtype=float)\n",
    "val_data=data_raw[train_data:300,:]\n",
    "data=data_raw[0:train_data, :]\n",
    "#np.random.shuffle(data)\n",
    "#scaler = MinMaxScaler()\n",
    "scaler = StandardScaler()\n",
    "data = scaler.fit_transform(data_raw)"
   ]
  },
  {
   "cell_type": "code",
   "execution_count": null,
   "metadata": {},
   "outputs": [
    {
     "data": {
      "text/plain": [
       "array([[ 1.51927551,  0.25133476, -0.41744385,  1.06862162, -0.7967402 ],\n",
       "       [-0.63522413, -1.41272158, -0.28728364, -1.24330016,  1.80848396],\n",
       "       [ 0.24153596,  1.20157556,  0.41766566, -1.24330016,  1.12239001],\n",
       "       ...,\n",
       "       [ 0.28401798,  0.18367842,  1.0640143 ,  1.06862162, -0.844476  ],\n",
       "       [ 0.96524668,  1.66901907, -1.67735295, -1.24330016,  1.69624072],\n",
       "       [-0.89930591,  0.7551262 , -0.72449683, -1.24330016,  1.35092074]])"
      ]
     },
     "execution_count": 858,
     "metadata": {},
     "output_type": "execute_result"
    }
   ],
   "source": [
    "train_data=260\n",
    "df=pd.read_csv(\"Data.csv\", header=True)\n",
    "data_imp=np.array(df, dtype=float)\n",
    "scaler=StandardScaler()\n",
    "data_raw=scaler.fit_transform(data_imp)\n",
    "val_data=data_raw[train_data:300,:]\n",
    "data=data_raw[0:train_data, :]\n",
    "data"
   ]
  },
  {
   "cell_type": "code",
   "execution_count": 859,
   "metadata": {},
   "outputs": [],
   "source": [
    "\n",
    "s=20  #sampling size\n",
    "seed_size=20 #size of seed data\n",
    "q=5 #query size\n",
    "n=int((train_data-seed_size)/s) # number of iteration needed to go through all samples"
   ]
  },
  {
   "cell_type": "code",
   "execution_count": 860,
   "metadata": {},
   "outputs": [],
   "source": [
    "#Defining seed data\n",
    "seed_data=data[0:seed_size,:]\n",
    "new_data=pd.DataFrame(seed_data)\n",
    "k=seed_data.shape[0]"
   ]
  },
  {
   "cell_type": "code",
   "execution_count": 861,
   "metadata": {},
   "outputs": [],
   "source": [
    "#GP model for random sampling\n",
    "def gp_eval(X, y):\n",
    "    # Instantiate a Gaussian Process model\n",
    "    #kernel = C(1.0, (1e-3, 1e3)) * RBF(10, (1e-2, 1e2))\n",
    "    kernel = 1.0 * Matern(length_scale=0.1, nu=1.5)\n",
    "    gp_eval = GaussianProcessRegressor(kernel=kernel, n_restarts_optimizer=9)\n",
    "\n",
    "    # Fit to data using Maximum Likelihood Estimation of the parameters\n",
    "    gp_eval.fit(X, y)\n",
    "    r2_score=gp.score(X,y)\n",
    "    print(\"GP model fit score is=\",r2_score)\n",
    "    #RMSE Error evaluation\n",
    "    y_val_pred=gp_eval.predict(val_data[:, 0:4])\n",
    "    tt=np.sqrt(np.mean((val_data[:, 4]-y_val_pred)**2))\n",
    "    print(\"Random sampling RMSE value is =\",tt)\n",
    "    \n",
    "    return tt"
   ]
  },
  {
   "cell_type": "code",
   "execution_count": 862,
   "metadata": {},
   "outputs": [
    {
     "name": "stdout",
     "output_type": "stream",
     "text": [
      "GP model fit score is= 1.0\n",
      "Final rmse value is = 0.16342810026157117\n"
     ]
    }
   ],
   "source": [
    "    X=data[:, 0:4]\n",
    "    y=data[:,4]\n",
    "    kernel = 1.0 * Matern(length_scale=1.0, nu=1.5)\n",
    "    gp = GaussianProcessRegressor(kernel=kernel, n_restarts_optimizer=9)\n",
    "    # Fit to data using Maximum Likelihood Estimation of the parameters\n",
    "    gp.fit(X, y)\n",
    "    r2_score=gp.score(X,y)\n",
    "    print(\"GP model fit score is=\",r2_score)\n",
    "    y_val_pred=gp.predict(val_data[:, 0:4])\n",
    "    rmse_cal=np.sqrt(np.mean((val_data[:, 4]-y_val_pred)**2))\n",
    "    mse_cal=np.mean((val_data[:, 4]-y_val_pred)**2)\n",
    "    print(\"Final rmse value is =\",rmse_cal)"
   ]
  },
  {
   "cell_type": "code",
   "execution_count": 863,
   "metadata": {},
   "outputs": [
    {
     "name": "stdout",
     "output_type": "stream",
     "text": [
      "GP model fit score is= 1.0\n",
      "Final rmse value is = 0.39454448438709555\n",
      "25\n",
      "GP model fit score is= 1.0\n",
      "Final rmse value is = 0.33002484839563856\n",
      "30\n",
      "GP model fit score is= 1.0\n",
      "Final rmse value is = 0.30219905673152014\n",
      "35\n",
      "GP model fit score is= 1.0\n",
      "Final rmse value is = 0.2752617053416001\n",
      "40\n",
      "GP model fit score is= 1.0\n",
      "Final rmse value is = 0.3069681871029265\n",
      "45\n",
      "GP model fit score is= 1.0\n",
      "Final rmse value is = 0.29450843950902017\n",
      "50\n",
      "GP model fit score is= 1.0\n",
      "Final rmse value is = 0.24770711679436042\n",
      "55\n",
      "GP model fit score is= 1.0\n",
      "Final rmse value is = 0.233632464075003\n",
      "60\n",
      "GP model fit score is= 1.0\n",
      "Final rmse value is = 0.23193318486481293\n",
      "65\n",
      "GP model fit score is= 1.0\n",
      "Final rmse value is = 0.23789476973577148\n",
      "70\n",
      "GP model fit score is= 1.0\n",
      "Final rmse value is = 0.23485669330717696\n",
      "75\n",
      "GP model fit score is= 1.0\n",
      "Final rmse value is = 0.23666486639142006\n",
      "80\n"
     ]
    }
   ],
   "source": [
    "mse=[]\n",
    "mse_random=[]\n",
    "rmse=[]\n",
    "rmse_random= []\n",
    "for i in range(n):\n",
    "    X=new_data.iloc[:, 0:4]\n",
    "    y=new_data.iloc[:,4]\n",
    "    # Instantiate a Gaussian Process model\n",
    "    #kernel = C(1.0, (1e-3, 1e3)) * RBF(10, (1e-2, 1e2))\n",
    "    kernel = 1.0 * Matern(length_scale=1.0, nu=1.5)\n",
    "    gp = GaussianProcessRegressor(kernel=kernel, n_restarts_optimizer=9)\n",
    "\n",
    "    # Fit to data using Maximum Likelihood Estimation of the parameters\n",
    "    gp.fit(X, y)\n",
    "    r2_score=gp.score(X,y)\n",
    "    print(\"GP model fit score is=\",r2_score)\n",
    "    #Evaluate current model against the validation set\n",
    "    #RMSE Error evaluation\n",
    "    y_val_pred=gp.predict(val_data[:, 0:4])\n",
    "    rmse_cal=np.sqrt(np.mean((val_data[:, 4]-y_val_pred)**2))\n",
    "    mse_cal=np.mean((val_data[:, 4]-y_val_pred)**2)\n",
    "    print(\"Final rmse value is =\",rmse_cal)\n",
    "    rmse.append(rmse_cal)\n",
    "    mse.append(mse_cal)\n",
    "    #pool-based sampling from unlabeled pool\n",
    "    XX=data[k+i*s:k+(i+1)*s, 0:4]   #taking the next few samples to predict variance\n",
    "    y_pred,sigma =gp.predict(XX, return_std=True)  #predict variance\n",
    "    sigma\n",
    "    #Finding maximum variance of the new samples,Rank them and select top 5\n",
    "    var_pred=pd.DataFrame(sigma, columns=[\"sigma\"])\n",
    "    new_input=pd.DataFrame(data[k+i*s:k+(i+1)*s,0:5])\n",
    "    md=pd.concat([new_input, var_pred], axis=1)\n",
    "    sorted_data=md.sort_values(by=['sigma'], ascending=False)\n",
    "    #select top 5\n",
    "    c_data=sorted_data.iloc[0:q,:]\n",
    "    #concat the ne\n",
    "    df_1=pd.DataFrame(new_data)\n",
    "    new_data=pd.concat([df_1, c_data], axis=0)\n",
    "    vv=new_data.shape[0]\n",
    "    print(vv)"
   ]
  },
  {
   "cell_type": "code",
   "execution_count": 864,
   "metadata": {},
   "outputs": [
    {
     "name": "stdout",
     "output_type": "stream",
     "text": [
      "GP model fit score is= 1.0\n",
      "Random sampling RMSE value is = 0.39454448467635217\n",
      "GP model fit score is= 0.9906084662361287\n",
      "Random sampling RMSE value is = 0.35763049963243293\n",
      "25\n",
      "1\n",
      "GP model fit score is= 0.98568265319165\n",
      "Random sampling RMSE value is = 0.24178514378012073\n",
      "30\n",
      "2\n",
      "GP model fit score is= 0.9922954456559969\n",
      "Random sampling RMSE value is = 0.28573160143170717\n",
      "35\n",
      "3\n",
      "GP model fit score is= 0.9605168917930804\n",
      "Random sampling RMSE value is = 0.48635161792190007\n",
      "40\n",
      "4\n",
      "GP model fit score is= 0.9725198207687386\n",
      "Random sampling RMSE value is = 0.22928654855815161\n",
      "45\n",
      "5\n",
      "GP model fit score is= 0.9506442136782994\n",
      "Random sampling RMSE value is = 0.28577155285616446\n",
      "50\n",
      "6\n",
      "GP model fit score is= 0.8083514859514467\n",
      "Random sampling RMSE value is = 0.3685039077009337\n",
      "55\n",
      "7\n",
      "GP model fit score is= 0.982106333327674\n",
      "Random sampling RMSE value is = 0.24323265520407883\n",
      "60\n",
      "8\n",
      "GP model fit score is= 0.9477740570542649\n",
      "Random sampling RMSE value is = 0.3236026994432029\n",
      "65\n",
      "9\n",
      "GP model fit score is= 0.968411863961688\n",
      "Random sampling RMSE value is = 0.4426746886921737\n",
      "70\n",
      "10\n",
      "GP model fit score is= 0.9278779348953117\n",
      "Random sampling RMSE value is = 0.12931606296937417\n",
      "75\n",
      "11\n",
      "[0.39454448467635217, 0.35763049963243293, 0.24178514378012073, 0.28573160143170717, 0.48635161792190007, 0.22928654855815161, 0.28577155285616446, 0.3685039077009337, 0.24323265520407883, 0.3236026994432029, 0.4426746886921737, 0.12931606296937417]\n"
     ]
    }
   ],
   "source": [
    "#random learning from the original pool\n",
    "rmse_rand_orig= []\n",
    "mse_rand_orig= []\n",
    "for i in range(n):\n",
    "        df_seed=pd.DataFrame(data[0:seed_size,:])\n",
    "        if i==0:\n",
    "            rand_rmse=gp_eval(df_seed.iloc[0:seed_size, 0:4], df_seed.iloc[0:seed_size, 4])\n",
    "        else:\n",
    "            df_unlabel=pd.DataFrame(data[seed_size:train_data,:])\n",
    "            #df_unlabel=df.iloc[20:400,0:2]\n",
    "            df_add=df_unlabel.sample(n=q*i)\n",
    "            data_random=pd.concat([df_seed, df_add], axis=0)\n",
    "            rand_rmse=gp_eval(data_random.iloc[:, 0:4], data_random.iloc[:, 4])\n",
    "            ll=data_random.shape[0]\n",
    "            print(ll)\n",
    "            print(i)\n",
    "\n",
    "        rmse_rand_orig.append(rand_rmse)\n",
    "print(rmse_rand_orig)"
   ]
  },
  {
   "cell_type": "code",
   "execution_count": 867,
   "metadata": {},
   "outputs": [
    {
     "name": "stdout",
     "output_type": "stream",
     "text": [
      "Scaler saved to file: scaler_20_5_20.pkl\n"
     ]
    }
   ],
   "source": [
    "#save model\n",
    "import pickle\n",
    "\n",
    "# save\n",
    "#with open('model_20_5_30.pkl','wb') as f:\n",
    "    #pickle.dump(gp,f)\n",
    "filename = f'model_{seed_size}_{q}_{s}.pkl'  # Using f-string to insert variables into the filename\n",
    "with open(filename, 'wb') as f:\n",
    "    pickle.dump(gp, f)\n",
    "file_path = f'scaler_{seed_size}_{q}_{s}.pkl'\n",
    "\n",
    "# Save the scaler using pickle.dump\n",
    "with open(file_path, 'wb') as file:\n",
    "    pickle.dump(scaler, file)\n",
    "\n",
    "print(f'Scaler saved to file: {file_path}')\n",
    "# load\n",
    "#with open('model.pkl', 'rb') as f:\n",
    "#    gp2 = pickle.load(f)\n",
    "\n",
    "#gp2.predict(val_data[:, 0:3])"
   ]
  },
  {
   "cell_type": "code",
   "execution_count": 868,
   "metadata": {},
   "outputs": [],
   "source": [
    "# Load the model from the saved file\n",
    "with open(filename, 'rb') as f:\n",
    "    loaded_model = pickle.load(f)\n"
   ]
  }
 ],
 "metadata": {
  "kernelspec": {
   "display_name": "Python 3 (ipykernel)",
   "language": "python",
   "name": "python3"
  },
  "language_info": {
   "codemirror_mode": {
    "name": "ipython",
    "version": 3
   },
   "file_extension": ".py",
   "mimetype": "text/x-python",
   "name": "python",
   "nbconvert_exporter": "python",
   "pygments_lexer": "ipython3",
   "version": "3.9.18"
  }
 },
 "nbformat": 4,
 "nbformat_minor": 4
}
